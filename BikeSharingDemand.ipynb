{
 "cells": [
  {
   "cell_type": "code",
   "execution_count": 34,
   "metadata": {},
   "outputs": [],
   "source": [
    "import pandas as pd\n",
    "import numpy as np"
   ]
  },
  {
   "cell_type": "markdown",
   "metadata": {},
   "source": [
    "## Import Data"
   ]
  },
  {
   "cell_type": "code",
   "execution_count": 35,
   "metadata": {},
   "outputs": [
    {
     "name": "stdout",
     "output_type": "stream",
     "text": [
      "(10886, 12)\n",
      "(6493, 9)\n"
     ]
    },
    {
     "data": {
      "text/html": [
       "<div>\n",
       "<style scoped>\n",
       "    .dataframe tbody tr th:only-of-type {\n",
       "        vertical-align: middle;\n",
       "    }\n",
       "\n",
       "    .dataframe tbody tr th {\n",
       "        vertical-align: top;\n",
       "    }\n",
       "\n",
       "    .dataframe thead th {\n",
       "        text-align: right;\n",
       "    }\n",
       "</style>\n",
       "<table border=\"1\" class=\"dataframe\">\n",
       "  <thead>\n",
       "    <tr style=\"text-align: right;\">\n",
       "      <th></th>\n",
       "      <th>datetime</th>\n",
       "      <th>season</th>\n",
       "      <th>holiday</th>\n",
       "      <th>workingday</th>\n",
       "      <th>weather</th>\n",
       "      <th>temp</th>\n",
       "      <th>atemp</th>\n",
       "      <th>humidity</th>\n",
       "      <th>windspeed</th>\n",
       "      <th>casual</th>\n",
       "      <th>registered</th>\n",
       "      <th>count</th>\n",
       "    </tr>\n",
       "  </thead>\n",
       "  <tbody>\n",
       "    <tr>\n",
       "      <th>0</th>\n",
       "      <td>2011-01-01 00:00:00</td>\n",
       "      <td>1</td>\n",
       "      <td>0</td>\n",
       "      <td>0</td>\n",
       "      <td>1</td>\n",
       "      <td>9.84</td>\n",
       "      <td>14.395</td>\n",
       "      <td>81</td>\n",
       "      <td>0.0</td>\n",
       "      <td>3</td>\n",
       "      <td>13</td>\n",
       "      <td>16</td>\n",
       "    </tr>\n",
       "    <tr>\n",
       "      <th>1</th>\n",
       "      <td>2011-01-01 01:00:00</td>\n",
       "      <td>1</td>\n",
       "      <td>0</td>\n",
       "      <td>0</td>\n",
       "      <td>1</td>\n",
       "      <td>9.02</td>\n",
       "      <td>13.635</td>\n",
       "      <td>80</td>\n",
       "      <td>0.0</td>\n",
       "      <td>8</td>\n",
       "      <td>32</td>\n",
       "      <td>40</td>\n",
       "    </tr>\n",
       "    <tr>\n",
       "      <th>2</th>\n",
       "      <td>2011-01-01 02:00:00</td>\n",
       "      <td>1</td>\n",
       "      <td>0</td>\n",
       "      <td>0</td>\n",
       "      <td>1</td>\n",
       "      <td>9.02</td>\n",
       "      <td>13.635</td>\n",
       "      <td>80</td>\n",
       "      <td>0.0</td>\n",
       "      <td>5</td>\n",
       "      <td>27</td>\n",
       "      <td>32</td>\n",
       "    </tr>\n",
       "    <tr>\n",
       "      <th>3</th>\n",
       "      <td>2011-01-01 03:00:00</td>\n",
       "      <td>1</td>\n",
       "      <td>0</td>\n",
       "      <td>0</td>\n",
       "      <td>1</td>\n",
       "      <td>9.84</td>\n",
       "      <td>14.395</td>\n",
       "      <td>75</td>\n",
       "      <td>0.0</td>\n",
       "      <td>3</td>\n",
       "      <td>10</td>\n",
       "      <td>13</td>\n",
       "    </tr>\n",
       "    <tr>\n",
       "      <th>4</th>\n",
       "      <td>2011-01-01 04:00:00</td>\n",
       "      <td>1</td>\n",
       "      <td>0</td>\n",
       "      <td>0</td>\n",
       "      <td>1</td>\n",
       "      <td>9.84</td>\n",
       "      <td>14.395</td>\n",
       "      <td>75</td>\n",
       "      <td>0.0</td>\n",
       "      <td>0</td>\n",
       "      <td>1</td>\n",
       "      <td>1</td>\n",
       "    </tr>\n",
       "  </tbody>\n",
       "</table>\n",
       "</div>"
      ],
      "text/plain": [
       "             datetime  season  holiday  workingday  weather  temp   atemp  \\\n",
       "0 2011-01-01 00:00:00       1        0           0        1  9.84  14.395   \n",
       "1 2011-01-01 01:00:00       1        0           0        1  9.02  13.635   \n",
       "2 2011-01-01 02:00:00       1        0           0        1  9.02  13.635   \n",
       "3 2011-01-01 03:00:00       1        0           0        1  9.84  14.395   \n",
       "4 2011-01-01 04:00:00       1        0           0        1  9.84  14.395   \n",
       "\n",
       "   humidity  windspeed  casual  registered  count  \n",
       "0        81        0.0       3          13     16  \n",
       "1        80        0.0       8          32     40  \n",
       "2        80        0.0       5          27     32  \n",
       "3        75        0.0       3          10     13  \n",
       "4        75        0.0       0           1      1  "
      ]
     },
     "execution_count": 35,
     "metadata": {},
     "output_type": "execute_result"
    }
   ],
   "source": [
    "# Uploading data\n",
    "\n",
    "train = pd.read_csv(\"train.csv\", parse_dates = [\"datetime\"])\n",
    "test = pd.read_csv(\"test.csv\", parse_dates = [\"datetime\"])\n",
    "print(train.shape)\n",
    "print(test.shape)\n",
    "train.head()"
   ]
  },
  {
   "cell_type": "markdown",
   "metadata": {},
   "source": [
    "## Exploring and Preprocessing"
   ]
  },
  {
   "cell_type": "code",
   "execution_count": 36,
   "metadata": {},
   "outputs": [],
   "source": [
    "%matplotlib inline\n",
    "import seaborn as sns\n",
    "import matplotlib.pyplot as plt"
   ]
  },
  {
   "cell_type": "markdown",
   "metadata": {},
   "source": [
    "### datetime"
   ]
  },
  {
   "cell_type": "code",
   "execution_count": 37,
   "metadata": {},
   "outputs": [
    {
     "name": "stderr",
     "output_type": "stream",
     "text": [
      "/Users/juliapark/anaconda3/lib/python3.6/site-packages/matplotlib/axes/_axes.py:6462: UserWarning: The 'normed' kwarg is deprecated, and has been replaced by the 'density' kwarg.\n",
      "  warnings.warn(\"The 'normed' kwarg is deprecated, and has been \"\n"
     ]
    },
    {
     "data": {
      "text/plain": [
       "<matplotlib.axes._subplots.AxesSubplot at 0x1a18670f98>"
      ]
     },
     "execution_count": 37,
     "metadata": {},
     "output_type": "execute_result"
    },
    {
     "data": {
      "image/png": "[encoded data removed]",
      "text/plain": [
       "<Figure size 432x288 with 1 Axes>"
      ]
     },
     "metadata": {},
     "output_type": "display_data"
    }
   ],
   "source": [
    "sns.distplot(train[\"count\"])"
   ]
  },
  {
   "cell_type": "code",
   "execution_count": 38,
   "metadata": {},
   "outputs": [
    {
     "name": "stdout",
     "output_type": "stream",
     "text": [
      "(10886, 13)\n"
     ]
    },
    {
     "data": {
      "text/html": [
       "<div>\n",
       "<style scoped>\n",
       "    .dataframe tbody tr th:only-of-type {\n",
       "        vertical-align: middle;\n",
       "    }\n",
       "\n",
       "    .dataframe tbody tr th {\n",
       "        vertical-align: top;\n",
       "    }\n",
       "\n",
       "    .dataframe thead th {\n",
       "        text-align: right;\n",
       "    }\n",
       "</style>\n",
       "<table border=\"1\" class=\"dataframe\">\n",
       "  <thead>\n",
       "    <tr style=\"text-align: right;\">\n",
       "      <th></th>\n",
       "      <th>count</th>\n",
       "      <th>log_count</th>\n",
       "    </tr>\n",
       "  </thead>\n",
       "  <tbody>\n",
       "    <tr>\n",
       "      <th>0</th>\n",
       "      <td>16</td>\n",
       "      <td>2.833213</td>\n",
       "    </tr>\n",
       "    <tr>\n",
       "      <th>1</th>\n",
       "      <td>40</td>\n",
       "      <td>3.713572</td>\n",
       "    </tr>\n",
       "    <tr>\n",
       "      <th>2</th>\n",
       "      <td>32</td>\n",
       "      <td>3.496508</td>\n",
       "    </tr>\n",
       "    <tr>\n",
       "      <th>3</th>\n",
       "      <td>13</td>\n",
       "      <td>2.639057</td>\n",
       "    </tr>\n",
       "    <tr>\n",
       "      <th>4</th>\n",
       "      <td>1</td>\n",
       "      <td>0.693147</td>\n",
       "    </tr>\n",
       "  </tbody>\n",
       "</table>\n",
       "</div>"
      ],
      "text/plain": [
       "   count  log_count\n",
       "0     16   2.833213\n",
       "1     40   3.713572\n",
       "2     32   3.496508\n",
       "3     13   2.639057\n",
       "4      1   0.693147"
      ]
     },
     "execution_count": 38,
     "metadata": {},
     "output_type": "execute_result"
    }
   ],
   "source": [
    "train[\"log_count\"] = np.log(train[\"count\"] + 1)\n",
    "print(train.shape)\n",
    "train[[\"count\", \"log_count\"]].head()"
   ]
  },
  {
   "cell_type": "code",
   "execution_count": 39,
   "metadata": {},
   "outputs": [
    {
     "name": "stderr",
     "output_type": "stream",
     "text": [
      "/Users/juliapark/anaconda3/lib/python3.6/site-packages/matplotlib/axes/_axes.py:6462: UserWarning: The 'normed' kwarg is deprecated, and has been replaced by the 'density' kwarg.\n",
      "  warnings.warn(\"The 'normed' kwarg is deprecated, and has been \"\n",
      "/Users/juliapark/anaconda3/lib/python3.6/site-packages/matplotlib/axes/_axes.py:6462: UserWarning: The 'normed' kwarg is deprecated, and has been replaced by the 'density' kwarg.\n",
      "  warnings.warn(\"The 'normed' kwarg is deprecated, and has been \"\n"
     ]
    },
    {
     "data": {
      "text/plain": [
       "<matplotlib.axes._subplots.AxesSubplot at 0x1a1696d470>"
      ]
     },
     "execution_count": 39,
     "metadata": {},
     "output_type": "execute_result"
    },
    {
     "data": {
      "image/png": "[encoded data removed]",
      "text/plain": [
       "<Figure size 1296x288 with 2 Axes>"
      ]
     },
     "metadata": {},
     "output_type": "display_data"
    }
   ],
   "source": [
    "figure, (ax1, ax2) = plt.subplots(nrows=1, ncols=2)\n",
    "figure.set_size_inches(18, 4)\n",
    "\n",
    "sns.distplot(train[\"count\"], ax=ax1)\n",
    "sns.distplot(train[\"log_count\"], ax=ax2)\n"
   ]
  },
  {
   "cell_type": "code",
   "execution_count": 40,
   "metadata": {},
   "outputs": [
    {
     "name": "stdout",
     "output_type": "stream",
     "text": [
      "(10886, 14)\n"
     ]
    },
    {
     "data": {
      "text/html": [
       "<div>\n",
       "<style scoped>\n",
       "    .dataframe tbody tr th:only-of-type {\n",
       "        vertical-align: middle;\n",
       "    }\n",
       "\n",
       "    .dataframe tbody tr th {\n",
       "        vertical-align: top;\n",
       "    }\n",
       "\n",
       "    .dataframe thead th {\n",
       "        text-align: right;\n",
       "    }\n",
       "</style>\n",
       "<table border=\"1\" class=\"dataframe\">\n",
       "  <thead>\n",
       "    <tr style=\"text-align: right;\">\n",
       "      <th></th>\n",
       "      <th>count</th>\n",
       "      <th>log_count</th>\n",
       "      <th>count(recover)</th>\n",
       "    </tr>\n",
       "  </thead>\n",
       "  <tbody>\n",
       "    <tr>\n",
       "      <th>0</th>\n",
       "      <td>16</td>\n",
       "      <td>2.833213</td>\n",
       "      <td>16.0</td>\n",
       "    </tr>\n",
       "    <tr>\n",
       "      <th>1</th>\n",
       "      <td>40</td>\n",
       "      <td>3.713572</td>\n",
       "      <td>40.0</td>\n",
       "    </tr>\n",
       "    <tr>\n",
       "      <th>2</th>\n",
       "      <td>32</td>\n",
       "      <td>3.496508</td>\n",
       "      <td>32.0</td>\n",
       "    </tr>\n",
       "    <tr>\n",
       "      <th>3</th>\n",
       "      <td>13</td>\n",
       "      <td>2.639057</td>\n",
       "      <td>13.0</td>\n",
       "    </tr>\n",
       "    <tr>\n",
       "      <th>4</th>\n",
       "      <td>1</td>\n",
       "      <td>0.693147</td>\n",
       "      <td>1.0</td>\n",
       "    </tr>\n",
       "  </tbody>\n",
       "</table>\n",
       "</div>"
      ],
      "text/plain": [
       "   count  log_count  count(recover)\n",
       "0     16   2.833213            16.0\n",
       "1     40   3.713572            40.0\n",
       "2     32   3.496508            32.0\n",
       "3     13   2.639057            13.0\n",
       "4      1   0.693147             1.0"
      ]
     },
     "execution_count": 40,
     "metadata": {},
     "output_type": "execute_result"
    }
   ],
   "source": [
    "train[\"count(recover)\"] = np.exp(train[\"log_count\"]) - 1\n",
    "print(train.shape)\n",
    "train[[\"count\", \"log_count\", \"count(recover)\"]].head()"
   ]
  },
  {
   "cell_type": "code",
   "execution_count": 41,
   "metadata": {},
   "outputs": [
    {
     "name": "stderr",
     "output_type": "stream",
     "text": [
      "/Users/juliapark/anaconda3/lib/python3.6/site-packages/matplotlib/axes/_axes.py:6462: UserWarning: The 'normed' kwarg is deprecated, and has been replaced by the 'density' kwarg.\n",
      "  warnings.warn(\"The 'normed' kwarg is deprecated, and has been \"\n"
     ]
    },
    {
     "data": {
      "text/plain": [
       "<matplotlib.axes._subplots.AxesSubplot at 0x1a188a4cc0>"
      ]
     },
     "execution_count": 41,
     "metadata": {},
     "output_type": "execute_result"
    },
    {
     "data": {
      "image/png": "[encoded data removed]",
      "text/plain": [
       "<Figure size 432x288 with 1 Axes>"
      ]
     },
     "metadata": {},
     "output_type": "display_data"
    }
   ],
   "source": [
    "sns.distplot(train[\"windspeed\"])"
   ]
  },
  {
   "cell_type": "code",
   "execution_count": 42,
   "metadata": {},
   "outputs": [
    {
     "data": {
      "text/plain": [
       "<seaborn.axisgrid.FacetGrid at 0x1a1a7fd1d0>"
      ]
     },
     "execution_count": 42,
     "metadata": {},
     "output_type": "execute_result"
    },
    {
     "data": {
      "image/png": "[encoded data removed]",
      "text/plain": [
       "<Figure size 360x360 with 1 Axes>"
      ]
     },
     "metadata": {},
     "output_type": "display_data"
    }
   ],
   "source": [
    "sns.lmplot(data=train, x=\"temp\", y = \"atemp\", fit_reg = False)\n",
    "# import matplotlib.pyplot as plt\n",
    "# plt.subplots(nrows=2, ncols= 3)"
   ]
  },
  {
   "cell_type": "markdown",
   "metadata": {},
   "source": [
    "### datetime"
   ]
  },
  {
   "cell_type": "code",
   "execution_count": 43,
   "metadata": {},
   "outputs": [
    {
     "data": {
      "text/html": [
       "<div>\n",
       "<style scoped>\n",
       "    .dataframe tbody tr th:only-of-type {\n",
       "        vertical-align: middle;\n",
       "    }\n",
       "\n",
       "    .dataframe tbody tr th {\n",
       "        vertical-align: top;\n",
       "    }\n",
       "\n",
       "    .dataframe thead th {\n",
       "        text-align: right;\n",
       "    }\n",
       "</style>\n",
       "<table border=\"1\" class=\"dataframe\">\n",
       "  <thead>\n",
       "    <tr style=\"text-align: right;\">\n",
       "      <th></th>\n",
       "      <th>datetime</th>\n",
       "      <th>season</th>\n",
       "      <th>holiday</th>\n",
       "      <th>workingday</th>\n",
       "      <th>weather</th>\n",
       "      <th>temp</th>\n",
       "      <th>atemp</th>\n",
       "      <th>humidity</th>\n",
       "      <th>windspeed</th>\n",
       "      <th>casual</th>\n",
       "      <th>...</th>\n",
       "      <th>log_count</th>\n",
       "      <th>count(recover)</th>\n",
       "      <th>datetime-year</th>\n",
       "      <th>datetime-month</th>\n",
       "      <th>datetime-day</th>\n",
       "      <th>datetime-hour</th>\n",
       "      <th>datetime-minute</th>\n",
       "      <th>datetime-second</th>\n",
       "      <th>datetime-dayofweek</th>\n",
       "      <th>datetime-dayofweek(humanized)</th>\n",
       "    </tr>\n",
       "  </thead>\n",
       "  <tbody>\n",
       "    <tr>\n",
       "      <th>0</th>\n",
       "      <td>2011-01-01 00:00:00</td>\n",
       "      <td>1</td>\n",
       "      <td>0</td>\n",
       "      <td>0</td>\n",
       "      <td>1</td>\n",
       "      <td>9.84</td>\n",
       "      <td>14.395</td>\n",
       "      <td>81</td>\n",
       "      <td>0.0</td>\n",
       "      <td>3</td>\n",
       "      <td>...</td>\n",
       "      <td>2.833213</td>\n",
       "      <td>16.0</td>\n",
       "      <td>2011</td>\n",
       "      <td>1</td>\n",
       "      <td>1</td>\n",
       "      <td>0</td>\n",
       "      <td>0</td>\n",
       "      <td>0</td>\n",
       "      <td>5</td>\n",
       "      <td>Saturday</td>\n",
       "    </tr>\n",
       "    <tr>\n",
       "      <th>1</th>\n",
       "      <td>2011-01-01 01:00:00</td>\n",
       "      <td>1</td>\n",
       "      <td>0</td>\n",
       "      <td>0</td>\n",
       "      <td>1</td>\n",
       "      <td>9.02</td>\n",
       "      <td>13.635</td>\n",
       "      <td>80</td>\n",
       "      <td>0.0</td>\n",
       "      <td>8</td>\n",
       "      <td>...</td>\n",
       "      <td>3.713572</td>\n",
       "      <td>40.0</td>\n",
       "      <td>2011</td>\n",
       "      <td>1</td>\n",
       "      <td>1</td>\n",
       "      <td>1</td>\n",
       "      <td>0</td>\n",
       "      <td>0</td>\n",
       "      <td>5</td>\n",
       "      <td>Saturday</td>\n",
       "    </tr>\n",
       "    <tr>\n",
       "      <th>2</th>\n",
       "      <td>2011-01-01 02:00:00</td>\n",
       "      <td>1</td>\n",
       "      <td>0</td>\n",
       "      <td>0</td>\n",
       "      <td>1</td>\n",
       "      <td>9.02</td>\n",
       "      <td>13.635</td>\n",
       "      <td>80</td>\n",
       "      <td>0.0</td>\n",
       "      <td>5</td>\n",
       "      <td>...</td>\n",
       "      <td>3.496508</td>\n",
       "      <td>32.0</td>\n",
       "      <td>2011</td>\n",
       "      <td>1</td>\n",
       "      <td>1</td>\n",
       "      <td>2</td>\n",
       "      <td>0</td>\n",
       "      <td>0</td>\n",
       "      <td>5</td>\n",
       "      <td>Saturday</td>\n",
       "    </tr>\n",
       "    <tr>\n",
       "      <th>3</th>\n",
       "      <td>2011-01-01 03:00:00</td>\n",
       "      <td>1</td>\n",
       "      <td>0</td>\n",
       "      <td>0</td>\n",
       "      <td>1</td>\n",
       "      <td>9.84</td>\n",
       "      <td>14.395</td>\n",
       "      <td>75</td>\n",
       "      <td>0.0</td>\n",
       "      <td>3</td>\n",
       "      <td>...</td>\n",
       "      <td>2.639057</td>\n",
       "      <td>13.0</td>\n",
       "      <td>2011</td>\n",
       "      <td>1</td>\n",
       "      <td>1</td>\n",
       "      <td>3</td>\n",
       "      <td>0</td>\n",
       "      <td>0</td>\n",
       "      <td>5</td>\n",
       "      <td>Saturday</td>\n",
       "    </tr>\n",
       "    <tr>\n",
       "      <th>4</th>\n",
       "      <td>2011-01-01 04:00:00</td>\n",
       "      <td>1</td>\n",
       "      <td>0</td>\n",
       "      <td>0</td>\n",
       "      <td>1</td>\n",
       "      <td>9.84</td>\n",
       "      <td>14.395</td>\n",
       "      <td>75</td>\n",
       "      <td>0.0</td>\n",
       "      <td>0</td>\n",
       "      <td>...</td>\n",
       "      <td>0.693147</td>\n",
       "      <td>1.0</td>\n",
       "      <td>2011</td>\n",
       "      <td>1</td>\n",
       "      <td>1</td>\n",
       "      <td>4</td>\n",
       "      <td>0</td>\n",
       "      <td>0</td>\n",
       "      <td>5</td>\n",
       "      <td>Saturday</td>\n",
       "    </tr>\n",
       "  </tbody>\n",
       "</table>\n",
       "<p>5 rows × 22 columns</p>\n",
       "</div>"
      ],
      "text/plain": [
       "             datetime  season  holiday  workingday  weather  temp   atemp  \\\n",
       "0 2011-01-01 00:00:00       1        0           0        1  9.84  14.395   \n",
       "1 2011-01-01 01:00:00       1        0           0        1  9.02  13.635   \n",
       "2 2011-01-01 02:00:00       1        0           0        1  9.02  13.635   \n",
       "3 2011-01-01 03:00:00       1        0           0        1  9.84  14.395   \n",
       "4 2011-01-01 04:00:00       1        0           0        1  9.84  14.395   \n",
       "\n",
       "   humidity  windspeed  casual              ...                log_count  \\\n",
       "0        81        0.0       3              ...                 2.833213   \n",
       "1        80        0.0       8              ...                 3.713572   \n",
       "2        80        0.0       5              ...                 3.496508   \n",
       "3        75        0.0       3              ...                 2.639057   \n",
       "4        75        0.0       0              ...                 0.693147   \n",
       "\n",
       "   count(recover)  datetime-year  datetime-month  datetime-day  datetime-hour  \\\n",
       "0            16.0           2011               1             1              0   \n",
       "1            40.0           2011               1             1              1   \n",
       "2            32.0           2011               1             1              2   \n",
       "3            13.0           2011               1             1              3   \n",
       "4             1.0           2011               1             1              4   \n",
       "\n",
       "   datetime-minute  datetime-second  datetime-dayofweek  \\\n",
       "0                0                0                   5   \n",
       "1                0                0                   5   \n",
       "2                0                0                   5   \n",
       "3                0                0                   5   \n",
       "4                0                0                   5   \n",
       "\n",
       "   datetime-dayofweek(humanized)  \n",
       "0                       Saturday  \n",
       "1                       Saturday  \n",
       "2                       Saturday  \n",
       "3                       Saturday  \n",
       "4                       Saturday  \n",
       "\n",
       "[5 rows x 22 columns]"
      ]
     },
     "execution_count": 43,
     "metadata": {},
     "output_type": "execute_result"
    }
   ],
   "source": [
    "train[\"datetime-year\"] = train[\"datetime\"].dt.year\n",
    "train[\"datetime-month\"] = train[\"datetime\"].dt.month\n",
    "train[\"datetime-day\"] = train[\"datetime\"].dt.day\n",
    "train[\"datetime-hour\"] = train[\"datetime\"].dt.hour\n",
    "train[\"datetime-minute\"] = train[\"datetime\"].dt.minute\n",
    "train[\"datetime-second\"] = train[\"datetime\"].dt.second\n",
    "\n",
    "train[\"datetime-dayofweek\"] = train[\"datetime\"].dt.dayofweek\n",
    "train.loc[train[\"datetime-dayofweek\"] == 0, \"datetime-dayofweek(humanized)\"] = \"Monday\"\n",
    "train.loc[train[\"datetime-dayofweek\"] == 1, \"datetime-dayofweek(humanized)\"] = \"Tuesday\"\n",
    "train.loc[train[\"datetime-dayofweek\"] == 2, \"datetime-dayofweek(humanized)\"] = \"Wednesday\"\n",
    "train.loc[train[\"datetime-dayofweek\"] == 3, \"datetime-dayofweek(humanized)\"] = \"Thursday\"\n",
    "train.loc[train[\"datetime-dayofweek\"] == 4, \"datetime-dayofweek(humanized)\"] = \"Friday\"\n",
    "train.loc[train[\"datetime-dayofweek\"] == 5, \"datetime-dayofweek(humanized)\"] = \"Saturday\"\n",
    "train.loc[train[\"datetime-dayofweek\"] == 6, \"datetime-dayofweek(humanized)\"] = \"Sunday\"\n",
    "\n",
    "\n",
    "test[\"datetime-year\"] = test[\"datetime\"].dt.year\n",
    "test[\"datetime-month\"] = test[\"datetime\"].dt.month\n",
    "test[\"datetime-day\"] = test[\"datetime\"].dt.day\n",
    "test[\"datetime-hour\"] = test[\"datetime\"].dt.hour\n",
    "test[\"datetime-minute\"] = test[\"datetime\"].dt.minute\n",
    "test[\"datetime-second\"] = test[\"datetime\"].dt.second\n",
    "\n",
    "test[\"datetime-dayofweek\"] = test[\"datetime\"].dt.dayofweek\n",
    "# train.loc[test[\"datetime-dayofweek\"] == 0, \"datetime-dayofweek(humanized)\"] = \"Monday\"\n",
    "# train.loc[test[\"datetime-dayofweek\"] == 1, \"datetime-dayofweek(humanized)\"] = \"Tuesday\"\n",
    "# train.loc[test[\"datetime-dayofweek\"] == 2, \"datetime-dayofweek(humanized)\"] = \"Wednesday\"\n",
    "# train.loc[test[\"datetime-dayofweek\"] == 3, \"datetime-dayofweek(humanized)\"] = \"Thursday\"\n",
    "# train.loc[test[\"datetime-dayofweek\"] == 4, \"datetime-dayofweek(humanized)\"] = \"Friday\"\n",
    "# train.loc[test[\"datetime-dayofweek\"] == 5, \"datetime-dayofweek(humanized)\"] = \"Saturday\"\n",
    "# train.loc[test[\"datetime-dayofweek\"] == 6, \"datetime-dayofweek(humanized)\"] = \"Sunday\"\n",
    "\n",
    "train.head()"
   ]
  },
  {
   "cell_type": "code",
   "execution_count": 44,
   "metadata": {},
   "outputs": [],
   "source": [
    "## Year + Month\n",
    "\n",
    "train[\"datetime-year_month\"] = train[\"datetime-year\"].astype('str') + \"-\" + train[\"datetime-month\"].astype('str')\n",
    "train.head()\n",
    "\n",
    "test[\"datetime-year_month\"] = test[\"datetime-year\"].astype('str') + \"-\" + test[\"datetime-month\"].astype('str')\n",
    "test.head()\n",
    "\n",
    "year_month = train[\"datetime-year_month\"].unique()"
   ]
  },
  {
   "cell_type": "code",
   "execution_count": 45,
   "metadata": {},
   "outputs": [
    {
     "data": {
      "text/plain": [
       "<matplotlib.axes._subplots.AxesSubplot at 0x1a1ade7438>"
      ]
     },
     "execution_count": 45,
     "metadata": {},
     "output_type": "execute_result"
    },
    {
     "data": {
      "image/png": "[encoded data removed]",
      "text/plain": [
       "<Figure size 1296x576 with 6 Axes>"
      ]
     },
     "metadata": {},
     "output_type": "display_data"
    }
   ],
   "source": [
    "figure, ((ax1, ax2, ax3), (ax4, ax5, ax6)) = plt.subplots(nrows=2, ncols=3)\n",
    "\n",
    "figure.set_size_inches(18, 8)\n",
    "\n",
    "sns.barplot(data=train, x=\"datetime-year\", y=\"count\", ax=ax1)\n",
    "sns.barplot(data=train, x=\"datetime-month\", y=\"count\", ax=ax2)\n",
    "sns.barplot(data=train, x=\"datetime-day\", y=\"count\", ax=ax3)\n",
    "sns.barplot(data=train, x=\"datetime-hour\", y=\"count\", ax=ax4)\n",
    "sns.barplot(data=train, x=\"datetime-minute\", y=\"count\", ax=ax5)\n",
    "sns.barplot(data=train, x=\"datetime-second\", y=\"count\", ax=ax6)"
   ]
  },
  {
   "cell_type": "code",
   "execution_count": 46,
   "metadata": {},
   "outputs": [
    {
     "data": {
      "text/plain": [
       "<matplotlib.axes._subplots.AxesSubplot at 0x1a19347a58>"
      ]
     },
     "execution_count": 46,
     "metadata": {},
     "output_type": "execute_result"
    },
    {
     "data": {
      "image/png": "[encoded data removed]",
      "text/plain": [
       "<Figure size 1296x288 with 2 Axes>"
      ]
     },
     "metadata": {},
     "output_type": "display_data"
    },
    {
     "data": {
      "image/png": "[encoded data removed]",
      "text/plain": [
       "<Figure size 1296x288 with 1 Axes>"
      ]
     },
     "metadata": {},
     "output_type": "display_data"
    }
   ],
   "source": [
    "figure, (ax1, ax2) = plt.subplots(nrows=1, ncols=2)\n",
    "\n",
    "figure.set_size_inches(18, 4)\n",
    "\n",
    "sns.barplot(data=train, x = \"datetime-year\", y = \"count\", ax=ax1)\n",
    "sns.barplot(data=train, x = \"datetime-month\", y = \"count\", ax=ax2)\n",
    "\n",
    "figure, ax3 = plt.subplots(nrows=1, ncols=1)\n",
    "\n",
    "figure.set_size_inches(18, 4)\n",
    "\n",
    "sns.barplot(data=train, x=\"datetime-year_month\", y=\"count\", ax=ax3)"
   ]
  },
  {
   "cell_type": "code",
   "execution_count": 47,
   "metadata": {},
   "outputs": [
    {
     "data": {
      "text/plain": [
       "<matplotlib.axes._subplots.AxesSubplot at 0x1a1af27860>"
      ]
     },
     "execution_count": 47,
     "metadata": {},
     "output_type": "execute_result"
    },
    {
     "data": {
      "image/png": "[encoded data removed]",
      "text/plain": [
       "<Figure size 1296x864 with 3 Axes>"
      ]
     },
     "metadata": {},
     "output_type": "display_data"
    }
   ],
   "source": [
    "figure, (ax1, ax2, ax3) = plt.subplots(nrows=3, ncols=1)\n",
    "\n",
    "figure.set_size_inches(18, 12)\n",
    "\n",
    "sns.pointplot(data=train, x=\"datetime-hour\", y=\"count\", ax=ax1)\n",
    "sns.pointplot(data=train, x=\"datetime-hour\", y=\"count\", hue=\"workingday\", ax=ax2)\n",
    "sns.pointplot(data=train, x=\"datetime-hour\", y=\"count\", hue=\"datetime-dayofweek(humanized)\", ax=ax3)"
   ]
  },
  {
   "cell_type": "code",
   "execution_count": 48,
   "metadata": {},
   "outputs": [],
   "source": [
    "import numpy as np\n",
    "# filling in zeroes in [\"windspeed\"]\n",
    "\n",
    "# # train\n",
    "# train[\"prev-windspeed\"] = train[\"windspeed\"].shift(+1).fillna(0)\n",
    "# train[\"next-windspeed\"] = train[\"windspeed\"].shift(-1).fillna(0)\n",
    "\n",
    "# train[\"windspeed-interpolate\"] = (train[\"prev-windspeed\"] + train[\"next-windspeed\"])/2\n",
    "# train[\"windspeed-fill\"] = train[\"windspeed\"]\n",
    "\n",
    "# train.loc[train[\"windspeed\"] == 0, \"windspeed-fill\"] = train.loc[train[\"windspeed\"] == 0,\"windspeed-interpolate\"]\n",
    "# train[[\"windspeed\", \"windspeed-interpolate\"]].head()\n",
    "\n",
    "# # test\n",
    "# test[\"prev-windspeed\"] = test[\"windspeed\"].shift(+1).fillna(0)\n",
    "# test[\"next-windspeed\"] = test[\"windspeed\"].shift(-1).fillna(0)\n",
    "\n",
    "# test[\"windspeed-interpolate\"] = (test[\"prev-windspeed\"]+test[\"next-windspeed\"])/2\n",
    "# test[\"windspeed-fill\"] = test[\"windspeed\"]\n",
    "\n",
    "# test.loc[test[\"windspeed\"] == 0, \"windspeed-fill\"] = test.loc[test[\"windspeed\"]==0,\"windspeed-interpolate\"]\n",
    "# test[[\"windspeed\", \"windspeed-fill\", \"windspeed-interpolate\"]].head(5)"
   ]
  },
  {
   "cell_type": "code",
   "execution_count": 49,
   "metadata": {},
   "outputs": [
    {
     "data": {
      "text/html": [
       "<div>\n",
       "<style scoped>\n",
       "    .dataframe tbody tr th:only-of-type {\n",
       "        vertical-align: middle;\n",
       "    }\n",
       "\n",
       "    .dataframe tbody tr th {\n",
       "        vertical-align: top;\n",
       "    }\n",
       "\n",
       "    .dataframe thead th {\n",
       "        text-align: right;\n",
       "    }\n",
       "</style>\n",
       "<table border=\"1\" class=\"dataframe\">\n",
       "  <thead>\n",
       "    <tr style=\"text-align: right;\">\n",
       "      <th></th>\n",
       "      <th>datetime</th>\n",
       "      <th>season</th>\n",
       "      <th>holiday</th>\n",
       "      <th>workingday</th>\n",
       "      <th>weather</th>\n",
       "      <th>temp</th>\n",
       "      <th>atemp</th>\n",
       "      <th>humidity</th>\n",
       "      <th>windspeed</th>\n",
       "      <th>casual</th>\n",
       "      <th>...</th>\n",
       "      <th>count(recover)</th>\n",
       "      <th>datetime-year</th>\n",
       "      <th>datetime-month</th>\n",
       "      <th>datetime-day</th>\n",
       "      <th>datetime-hour</th>\n",
       "      <th>datetime-minute</th>\n",
       "      <th>datetime-second</th>\n",
       "      <th>datetime-dayofweek</th>\n",
       "      <th>datetime-dayofweek(humanized)</th>\n",
       "      <th>datetime-year_month</th>\n",
       "    </tr>\n",
       "  </thead>\n",
       "  <tbody>\n",
       "    <tr>\n",
       "      <th>5631</th>\n",
       "      <td>2012-01-09 18:00:00</td>\n",
       "      <td>1</td>\n",
       "      <td>0</td>\n",
       "      <td>1</td>\n",
       "      <td>4</td>\n",
       "      <td>8.2</td>\n",
       "      <td>11.365</td>\n",
       "      <td>86</td>\n",
       "      <td>6.0032</td>\n",
       "      <td>6</td>\n",
       "      <td>...</td>\n",
       "      <td>164.0</td>\n",
       "      <td>2012</td>\n",
       "      <td>1</td>\n",
       "      <td>9</td>\n",
       "      <td>18</td>\n",
       "      <td>0</td>\n",
       "      <td>0</td>\n",
       "      <td>0</td>\n",
       "      <td>Monday</td>\n",
       "      <td>2012-1</td>\n",
       "    </tr>\n",
       "  </tbody>\n",
       "</table>\n",
       "<p>1 rows × 23 columns</p>\n",
       "</div>"
      ],
      "text/plain": [
       "                datetime  season  holiday  workingday  weather  temp   atemp  \\\n",
       "5631 2012-01-09 18:00:00       1        0           1        4   8.2  11.365   \n",
       "\n",
       "      humidity  windspeed  casual         ...           count(recover)  \\\n",
       "5631        86     6.0032       6         ...                    164.0   \n",
       "\n",
       "      datetime-year  datetime-month  datetime-day  datetime-hour  \\\n",
       "5631           2012               1             9             18   \n",
       "\n",
       "      datetime-minute  datetime-second  datetime-dayofweek  \\\n",
       "5631                0                0                   0   \n",
       "\n",
       "      datetime-dayofweek(humanized)  datetime-year_month  \n",
       "5631                         Monday               2012-1  \n",
       "\n",
       "[1 rows x 23 columns]"
      ]
     },
     "execution_count": 49,
     "metadata": {},
     "output_type": "execute_result"
    }
   ],
   "source": [
    "train[train[\"weather\"] == 4]"
   ]
  },
  {
   "cell_type": "code",
   "execution_count": 50,
   "metadata": {},
   "outputs": [
    {
     "data": {
      "text/html": [
       "<div>\n",
       "<style scoped>\n",
       "    .dataframe tbody tr th:only-of-type {\n",
       "        vertical-align: middle;\n",
       "    }\n",
       "\n",
       "    .dataframe tbody tr th {\n",
       "        vertical-align: top;\n",
       "    }\n",
       "\n",
       "    .dataframe thead th {\n",
       "        text-align: right;\n",
       "    }\n",
       "</style>\n",
       "<table border=\"1\" class=\"dataframe\">\n",
       "  <thead>\n",
       "    <tr style=\"text-align: right;\">\n",
       "      <th></th>\n",
       "      <th>datetime</th>\n",
       "      <th>season</th>\n",
       "      <th>holiday</th>\n",
       "      <th>workingday</th>\n",
       "      <th>weather</th>\n",
       "      <th>temp</th>\n",
       "      <th>atemp</th>\n",
       "      <th>humidity</th>\n",
       "      <th>windspeed</th>\n",
       "      <th>datetime-year</th>\n",
       "      <th>datetime-month</th>\n",
       "      <th>datetime-day</th>\n",
       "      <th>datetime-hour</th>\n",
       "      <th>datetime-minute</th>\n",
       "      <th>datetime-second</th>\n",
       "      <th>datetime-dayofweek</th>\n",
       "      <th>datetime-year_month</th>\n",
       "    </tr>\n",
       "  </thead>\n",
       "  <tbody>\n",
       "    <tr>\n",
       "      <th>154</th>\n",
       "      <td>2011-01-26 16:00:00</td>\n",
       "      <td>1</td>\n",
       "      <td>0</td>\n",
       "      <td>1</td>\n",
       "      <td>4</td>\n",
       "      <td>9.02</td>\n",
       "      <td>9.85</td>\n",
       "      <td>93</td>\n",
       "      <td>22.0028</td>\n",
       "      <td>2011</td>\n",
       "      <td>1</td>\n",
       "      <td>26</td>\n",
       "      <td>16</td>\n",
       "      <td>0</td>\n",
       "      <td>0</td>\n",
       "      <td>2</td>\n",
       "      <td>2011-1</td>\n",
       "    </tr>\n",
       "    <tr>\n",
       "      <th>3248</th>\n",
       "      <td>2012-01-21 01:00:00</td>\n",
       "      <td>1</td>\n",
       "      <td>0</td>\n",
       "      <td>0</td>\n",
       "      <td>4</td>\n",
       "      <td>5.74</td>\n",
       "      <td>6.82</td>\n",
       "      <td>86</td>\n",
       "      <td>12.9980</td>\n",
       "      <td>2012</td>\n",
       "      <td>1</td>\n",
       "      <td>21</td>\n",
       "      <td>1</td>\n",
       "      <td>0</td>\n",
       "      <td>0</td>\n",
       "      <td>5</td>\n",
       "      <td>2012-1</td>\n",
       "    </tr>\n",
       "  </tbody>\n",
       "</table>\n",
       "</div>"
      ],
      "text/plain": [
       "                datetime  season  holiday  workingday  weather  temp  atemp  \\\n",
       "154  2011-01-26 16:00:00       1        0           1        4  9.02   9.85   \n",
       "3248 2012-01-21 01:00:00       1        0           0        4  5.74   6.82   \n",
       "\n",
       "      humidity  windspeed  datetime-year  datetime-month  datetime-day  \\\n",
       "154         93    22.0028           2011               1            26   \n",
       "3248        86    12.9980           2012               1            21   \n",
       "\n",
       "      datetime-hour  datetime-minute  datetime-second  datetime-dayofweek  \\\n",
       "154              16                0                0                   2   \n",
       "3248              1                0                0                   5   \n",
       "\n",
       "     datetime-year_month  \n",
       "154               2011-1  \n",
       "3248              2012-1  "
      ]
     },
     "execution_count": 50,
     "metadata": {},
     "output_type": "execute_result"
    }
   ],
   "source": [
    "test[test[\"weather\"] == 4]"
   ]
  },
  {
   "cell_type": "code",
   "execution_count": 51,
   "metadata": {},
   "outputs": [],
   "source": [
    "# # take out the one \"4\" value in weather\n",
    "# train.loc[train[\"weather\"] == 4, \"weather\"] = 3\n",
    "# test.loc[test[\"weather\"] == 4, \"weather\"] = 3"
   ]
  },
  {
   "cell_type": "code",
   "execution_count": 52,
   "metadata": {},
   "outputs": [],
   "source": [
    "# # \"temp\" & \"atemp\" outliers\n",
    "\n",
    "# # train\n",
    "# temp = train.loc[train[\"temp\"] - train[\"atemp\"] > 10, \"temp\"]\n",
    "\n",
    "# train[\"atemp-fill\"] = train[\"atemp\"]\n",
    "# train.loc[train[\"temp\"] - train[\"atemp\"] > 10, \"atemp-fill\"] = temp + 5\n",
    "\n",
    "# train.head()\n",
    "\n",
    "# # test\n",
    "# temp = test.loc[test[\"temp\"] - test[\"atemp\"] > 10, \"temp\"]\n",
    "# test[\"atemp-fill\"] = test[\"atemp\"]\n",
    "# test.loc[train[\"temp\"] - test[\"atemp\"] > 10, \"atemp-fill\"] = temp + 5\n",
    "\n",
    "# temp = test.loc[test[\"atemp-fill\"].isnull(), \"temp\"]\n",
    "# test.loc[test[\"atemp-fill\"].isnull(), \"atemp-fill\"] = temp # fill in NaN with temp\n",
    "# test[[\"atemp-fill\", \"atemp\",\"temp\"]].head()"
   ]
  },
  {
   "cell_type": "code",
   "execution_count": 53,
   "metadata": {},
   "outputs": [],
   "source": [
    "# checking outliers\n",
    "# sns.lmplot(data=train, x=\"temp\", y = \"atemp-fill\", fit_reg = False)"
   ]
  },
  {
   "cell_type": "markdown",
   "metadata": {},
   "source": [
    "## Defining X & Y"
   ]
  },
  {
   "cell_type": "code",
   "execution_count": 54,
   "metadata": {},
   "outputs": [
    {
     "name": "stdout",
     "output_type": "stream",
     "text": [
      "(10886, 11)\n",
      "(6493, 11)\n"
     ]
    },
    {
     "data": {
      "text/html": [
       "<div>\n",
       "<style scoped>\n",
       "    .dataframe tbody tr th:only-of-type {\n",
       "        vertical-align: middle;\n",
       "    }\n",
       "\n",
       "    .dataframe tbody tr th {\n",
       "        vertical-align: top;\n",
       "    }\n",
       "\n",
       "    .dataframe thead th {\n",
       "        text-align: right;\n",
       "    }\n",
       "</style>\n",
       "<table border=\"1\" class=\"dataframe\">\n",
       "  <thead>\n",
       "    <tr style=\"text-align: right;\">\n",
       "      <th></th>\n",
       "      <th>season</th>\n",
       "      <th>holiday</th>\n",
       "      <th>workingday</th>\n",
       "      <th>weather</th>\n",
       "      <th>temp</th>\n",
       "      <th>atemp</th>\n",
       "      <th>humidity</th>\n",
       "      <th>windspeed</th>\n",
       "      <th>datetime-year</th>\n",
       "      <th>datetime-hour</th>\n",
       "      <th>datetime-dayofweek</th>\n",
       "    </tr>\n",
       "  </thead>\n",
       "  <tbody>\n",
       "    <tr>\n",
       "      <th>0</th>\n",
       "      <td>1</td>\n",
       "      <td>0</td>\n",
       "      <td>1</td>\n",
       "      <td>1</td>\n",
       "      <td>10.66</td>\n",
       "      <td>11.365</td>\n",
       "      <td>56</td>\n",
       "      <td>26.0027</td>\n",
       "      <td>2011</td>\n",
       "      <td>0</td>\n",
       "      <td>3</td>\n",
       "    </tr>\n",
       "    <tr>\n",
       "      <th>1</th>\n",
       "      <td>1</td>\n",
       "      <td>0</td>\n",
       "      <td>1</td>\n",
       "      <td>1</td>\n",
       "      <td>10.66</td>\n",
       "      <td>13.635</td>\n",
       "      <td>56</td>\n",
       "      <td>0.0000</td>\n",
       "      <td>2011</td>\n",
       "      <td>1</td>\n",
       "      <td>3</td>\n",
       "    </tr>\n",
       "    <tr>\n",
       "      <th>2</th>\n",
       "      <td>1</td>\n",
       "      <td>0</td>\n",
       "      <td>1</td>\n",
       "      <td>1</td>\n",
       "      <td>10.66</td>\n",
       "      <td>13.635</td>\n",
       "      <td>56</td>\n",
       "      <td>0.0000</td>\n",
       "      <td>2011</td>\n",
       "      <td>2</td>\n",
       "      <td>3</td>\n",
       "    </tr>\n",
       "    <tr>\n",
       "      <th>3</th>\n",
       "      <td>1</td>\n",
       "      <td>0</td>\n",
       "      <td>1</td>\n",
       "      <td>1</td>\n",
       "      <td>10.66</td>\n",
       "      <td>12.880</td>\n",
       "      <td>56</td>\n",
       "      <td>11.0014</td>\n",
       "      <td>2011</td>\n",
       "      <td>3</td>\n",
       "      <td>3</td>\n",
       "    </tr>\n",
       "    <tr>\n",
       "      <th>4</th>\n",
       "      <td>1</td>\n",
       "      <td>0</td>\n",
       "      <td>1</td>\n",
       "      <td>1</td>\n",
       "      <td>10.66</td>\n",
       "      <td>12.880</td>\n",
       "      <td>56</td>\n",
       "      <td>11.0014</td>\n",
       "      <td>2011</td>\n",
       "      <td>4</td>\n",
       "      <td>3</td>\n",
       "    </tr>\n",
       "  </tbody>\n",
       "</table>\n",
       "</div>"
      ],
      "text/plain": [
       "   season  holiday  workingday  weather   temp   atemp  humidity  windspeed  \\\n",
       "0       1        0           1        1  10.66  11.365        56    26.0027   \n",
       "1       1        0           1        1  10.66  13.635        56     0.0000   \n",
       "2       1        0           1        1  10.66  13.635        56     0.0000   \n",
       "3       1        0           1        1  10.66  12.880        56    11.0014   \n",
       "4       1        0           1        1  10.66  12.880        56    11.0014   \n",
       "\n",
       "   datetime-year  datetime-hour  datetime-dayofweek  \n",
       "0           2011              0                   3  \n",
       "1           2011              1                   3  \n",
       "2           2011              2                   3  \n",
       "3           2011              3                   3  \n",
       "4           2011              4                   3  "
      ]
     },
     "execution_count": 54,
     "metadata": {},
     "output_type": "execute_result"
    }
   ],
   "source": [
    "feature_names = [\"season\", \"holiday\", \"workingday\", \"weather\", \"temp\",\"atemp\",\"humidity\", \"windspeed\", \"datetime-year\", \"datetime-hour\", \"datetime-dayofweek\"]\n",
    "\n",
    "X_train = train[feature_names]\n",
    "X_test = test[feature_names]\n",
    "y_train= train[\"log_count\"]\n",
    "\n",
    "print(X_train.shape)\n",
    "print(X_test.shape)\n",
    "\n",
    "X_test.head()"
   ]
  },
  {
   "cell_type": "markdown",
   "metadata": {},
   "source": [
    "## Evaluate - Root Mean Squared Logarithmic Error"
   ]
  },
  {
   "cell_type": "code",
   "execution_count": 55,
   "metadata": {},
   "outputs": [
    {
     "data": {
      "text/plain": [
       "make_scorer(rmse)"
      ]
     },
     "execution_count": 55,
     "metadata": {},
     "output_type": "execute_result"
    }
   ],
   "source": [
    "import numpy as np\n",
    "from sklearn.metrics import make_scorer\n",
    "\n",
    "def rmse(predict, actual):\n",
    "    predict = np.array(predict)\n",
    "    actual = np.array(actual)\n",
    "\n",
    "    distance = predict - actual\n",
    "    square_distance = distance ** 2\n",
    "    \n",
    "    mean_square_distance = square_distance.mean()\n",
    "    score = np.sqrt(mean_square_distance)\n",
    "    \n",
    "    return score\n",
    "\n",
    "rmse_score = make_scorer(rmse) ## allows it to be used in randomforest model\n",
    "rmse_score"
   ]
  },
  {
   "cell_type": "markdown",
   "metadata": {},
   "source": [
    "## Hyperparameter Tuning"
   ]
  },
  {
   "cell_type": "code",
   "execution_count": 56,
   "metadata": {},
   "outputs": [
    {
     "data": {
      "text/plain": [
       "RandomForestRegressor(bootstrap=True, criterion='mse', max_depth=None,\n",
       "           max_features='auto', max_leaf_nodes=None,\n",
       "           min_impurity_decrease=0.0, min_impurity_split=None,\n",
       "           min_samples_leaf=1, min_samples_split=2,\n",
       "           min_weight_fraction_leaf=0.0, n_estimators=10, n_jobs=1,\n",
       "           oob_score=False, random_state=None, verbose=0, warm_start=False)"
      ]
     },
     "execution_count": 56,
     "metadata": {},
     "output_type": "execute_result"
    }
   ],
   "source": [
    "from sklearn.ensemble import RandomForestRegressor\n",
    "\n",
    "RandomForestRegressor()"
   ]
  },
  {
   "cell_type": "markdown",
   "metadata": {},
   "source": [
    "## Coarse & Finer Search"
   ]
  },
  {
   "cell_type": "code",
   "execution_count": 92,
   "metadata": {},
   "outputs": [
    {
     "name": "stdout",
     "output_type": "stream",
     "text": [
      " 0 n_estimators = 300, max_depth = 12, max_features = 0.663760, Score = 0.44353\n",
      " 1 n_estimators = 300, max_depth = 13, max_features = 0.585722, Score = 0.44016\n",
      " 2 n_estimators = 300, max_depth = 96, max_features = 0.676832, Score = 0.41496\n",
      " 3 n_estimators = 300, max_depth = 16, max_features = 0.761302, Score = 0.42249\n",
      " 4 n_estimators = 300, max_depth = 35, max_features = 0.206489, Score = 0.48657\n",
      " 5 n_estimators = 300, max_depth = 57, max_features = 0.375623, Score = 0.43200\n",
      " 6 n_estimators = 300, max_depth = 52, max_features = 0.326525, Score = 0.43806\n",
      " 7 n_estimators = 300, max_depth = 12, max_features = 0.579634, Score = 0.44772\n",
      " 8 n_estimators = 300, max_depth = 78, max_features = 0.361490, Score = 0.43200\n",
      " 9 n_estimators = 300, max_depth = 16, max_features = 0.394333, Score = 0.43999\n",
      "10 n_estimators = 300, max_depth = 73, max_features = 0.236838, Score = 0.46718\n",
      "11 n_estimators = 300, max_depth =  8, max_features = 0.269103, Score = 0.62519\n",
      "12 n_estimators = 300, max_depth = 17, max_features = 0.487100, Score = 0.42768\n",
      "13 n_estimators = 300, max_depth = 18, max_features = 0.619212, Score = 0.42065\n",
      "14 n_estimators = 300, max_depth = 91, max_features = 0.203332, Score = 0.50447\n",
      "15 n_estimators = 300, max_depth = 56, max_features = 0.286494, Score = 0.45617\n",
      "16 n_estimators = 300, max_depth = 36, max_features = 0.369797, Score = 0.43196\n",
      "17 n_estimators = 300, max_depth = 76, max_features = 0.137538, Score = 0.56194\n",
      "18 n_estimators = 300, max_depth = 81, max_features = 0.277436, Score = 0.45617\n",
      "19 n_estimators = 300, max_depth = 83, max_features = 0.908944, Score = 0.41524\n",
      "20 n_estimators = 300, max_depth = 20, max_features = 0.512828, Score = 0.41974\n",
      "21 n_estimators = 300, max_depth = 54, max_features = 0.248096, Score = 0.46718\n",
      "22 n_estimators = 300, max_depth = 98, max_features = 0.227335, Score = 0.48678\n",
      "23 n_estimators = 300, max_depth =  4, max_features = 0.873417, Score = 0.69290\n",
      "24 n_estimators = 300, max_depth = 63, max_features = 0.989238, Score = 0.41737\n",
      "25 n_estimators = 300, max_depth =  2, max_features = 0.111445, Score = 1.22295\n",
      "26 n_estimators = 300, max_depth = 48, max_features = 0.317580, Score = 0.44520\n",
      "27 n_estimators = 300, max_depth = 58, max_features = 0.398538, Score = 0.42589\n",
      "28 n_estimators = 300, max_depth = 48, max_features = 0.150142, Score = 0.53068\n",
      "29 n_estimators = 300, max_depth = 61, max_features = 0.813422, Score = 0.41541\n",
      "30 n_estimators = 300, max_depth = 96, max_features = 0.264288, Score = 0.46718\n",
      "31 n_estimators = 300, max_depth = 23, max_features = 0.344618, Score = 0.43908\n",
      "32 n_estimators = 300, max_depth = 17, max_features = 0.132556, Score = 0.60189\n",
      "33 n_estimators = 300, max_depth = 29, max_features = 0.909487, Score = 0.41495\n",
      "34 n_estimators = 300, max_depth = 60, max_features = 0.882546, Score = 0.41524\n",
      "35 n_estimators = 300, max_depth = 44, max_features = 0.582643, Score = 0.41724\n",
      "36 n_estimators = 300, max_depth = 67, max_features = 0.177440, Score = 0.50447\n",
      "37 n_estimators = 300, max_depth = 60, max_features = 0.250051, Score = 0.46718\n",
      "38 n_estimators = 300, max_depth = 22, max_features = 0.572833, Score = 0.41617\n",
      "39 n_estimators = 300, max_depth = 35, max_features = 0.656519, Score = 0.41527\n",
      "40 n_estimators = 300, max_depth = 76, max_features = 0.145090, Score = 0.56194\n",
      "41 n_estimators = 300, max_depth = 89, max_features = 0.722191, Score = 0.41557\n",
      "42 n_estimators = 300, max_depth = 82, max_features = 0.263801, Score = 0.46718\n",
      "43 n_estimators = 300, max_depth = 38, max_features = 0.808898, Score = 0.41559\n",
      "44 n_estimators = 300, max_depth = 34, max_features = 0.149996, Score = 0.53010\n",
      "45 n_estimators = 300, max_depth = 95, max_features = 0.505075, Score = 0.41809\n",
      "46 n_estimators = 300, max_depth =  3, max_features = 0.838189, Score = 0.76157\n",
      "47 n_estimators = 300, max_depth = 76, max_features = 0.663691, Score = 0.41462\n",
      "48 n_estimators = 300, max_depth = 59, max_features = 0.305716, Score = 0.44520\n",
      "49 n_estimators = 300, max_depth = 23, max_features = 0.272198, Score = 0.45833\n",
      "50 n_estimators = 300, max_depth = 56, max_features = 0.699864, Score = 0.41496\n",
      "51 n_estimators = 300, max_depth = 32, max_features = 0.428356, Score = 0.42379\n",
      "52 n_estimators = 300, max_depth = 10, max_features = 0.392858, Score = 0.50992\n",
      "53 n_estimators = 300, max_depth = 54, max_features = 0.498208, Score = 0.41920\n",
      "54 n_estimators = 300, max_depth = 89, max_features = 0.113112, Score = 0.60877\n",
      "55 n_estimators = 300, max_depth = 38, max_features = 0.226839, Score = 0.48672\n",
      "56 n_estimators = 300, max_depth = 45, max_features = 0.162571, Score = 0.53068\n",
      "57 n_estimators = 300, max_depth = 93, max_features = 0.489344, Score = 0.41920\n",
      "58 n_estimators = 300, max_depth = 75, max_features = 0.915987, Score = 0.41550\n",
      "59 n_estimators = 300, max_depth = 39, max_features = 0.782531, Score = 0.41463\n",
      "60 n_estimators = 300, max_depth = 90, max_features = 0.621477, Score = 0.41483\n",
      "61 n_estimators = 300, max_depth = 49, max_features = 0.288915, Score = 0.45617\n",
      "62 n_estimators = 300, max_depth = 68, max_features = 0.512288, Score = 0.41809\n",
      "63 n_estimators = 300, max_depth = 14, max_features = 0.829101, Score = 0.42856\n",
      "64 n_estimators = 300, max_depth = 36, max_features = 0.211921, Score = 0.48718\n",
      "65 n_estimators = 300, max_depth = 59, max_features = 0.214124, Score = 0.48678\n",
      "66 n_estimators = 300, max_depth = 84, max_features = 0.118279, Score = 0.56194\n",
      "67 n_estimators = 300, max_depth = 54, max_features = 0.909467, Score = 0.41524\n",
      "68 n_estimators = 300, max_depth = 27, max_features = 0.362087, Score = 0.43075\n",
      "69 n_estimators = 300, max_depth = 36, max_features = 0.802037, Score = 0.41551\n",
      "70 n_estimators = 300, max_depth = 99, max_features = 0.269459, Score = 0.45617\n",
      "71 n_estimators = 300, max_depth = 96, max_features = 0.363179, Score = 0.43200\n",
      "72 n_estimators = 300, max_depth = 81, max_features = 0.678193, Score = 0.41496\n",
      "73 n_estimators = 300, max_depth = 67, max_features = 0.825761, Score = 0.41480\n",
      "74 n_estimators = 300, max_depth = 72, max_features = 0.975193, Score = 0.41737\n",
      "75 n_estimators = 300, max_depth = 67, max_features = 0.211763, Score = 0.48678\n",
      "76 n_estimators = 300, max_depth =  5, max_features = 0.213446, Score = 0.81612\n",
      "77 n_estimators = 300, max_depth = 59, max_features = 0.998249, Score = 0.41737\n",
      "78 n_estimators = 300, max_depth = 69, max_features = 0.842544, Score = 0.41480\n",
      "79 n_estimators = 300, max_depth = 80, max_features = 0.715855, Score = 0.41557\n",
      "80 n_estimators = 300, max_depth = 96, max_features = 0.495069, Score = 0.41920\n",
      "81 n_estimators = 300, max_depth =  8, max_features = 0.688271, Score = 0.51086\n",
      "82 n_estimators = 300, max_depth = 99, max_features = 0.795104, Score = 0.41541\n",
      "83 n_estimators = 300, max_depth = 29, max_features = 0.682242, Score = 0.41502\n",
      "84 n_estimators = 300, max_depth = 54, max_features = 0.714266, Score = 0.41557\n",
      "85 n_estimators = 300, max_depth = 18, max_features = 0.129837, Score = 0.59507\n",
      "86 n_estimators = 300, max_depth =  4, max_features = 0.384511, Score = 0.74716\n",
      "87 n_estimators = 300, max_depth =  5, max_features = 0.166748, Score = 0.88804\n",
      "88 n_estimators = 300, max_depth = 13, max_features = 0.372067, Score = 0.46900\n",
      "89 n_estimators = 300, max_depth = 86, max_features = 0.749258, Score = 0.41474\n",
      "90 n_estimators = 300, max_depth = 59, max_features = 0.191197, Score = 0.50447\n",
      "91 n_estimators = 300, max_depth = 24, max_features = 0.987762, Score = 0.41685\n",
      "92 n_estimators = 300, max_depth = 34, max_features = 0.221817, Score = 0.48568\n",
      "93 n_estimators = 300, max_depth = 53, max_features = 0.578900, Score = 0.41720\n",
      "94 n_estimators = 300, max_depth = 20, max_features = 0.409520, Score = 0.43044\n",
      "95 n_estimators = 300, max_depth = 14, max_features = 0.828189, Score = 0.42856\n",
      "96 n_estimators = 300, max_depth = 62, max_features = 0.999115, Score = 0.41737\n",
      "97 n_estimators = 300, max_depth = 77, max_features = 0.345198, Score = 0.43806\n",
      "98 n_estimators = 300, max_depth = 69, max_features = 0.293782, Score = 0.45617\n",
      "99 n_estimators = 300, max_depth = 85, max_features = 0.223835, Score = 0.48678\n",
      "(100, 5)\n"
     ]
    },
    {
     "data": {
      "text/html": [
       "<div>\n",
       "<style scoped>\n",
       "    .dataframe tbody tr th:only-of-type {\n",
       "        vertical-align: middle;\n",
       "    }\n",
       "\n",
       "    .dataframe tbody tr th {\n",
       "        vertical-align: top;\n",
       "    }\n",
       "\n",
       "    .dataframe thead th {\n",
       "        text-align: right;\n",
       "    }\n",
       "</style>\n",
       "<table border=\"1\" class=\"dataframe\">\n",
       "  <thead>\n",
       "    <tr style=\"text-align: right;\">\n",
       "      <th></th>\n",
       "      <th>epoch</th>\n",
       "      <th>max_depth</th>\n",
       "      <th>max_features</th>\n",
       "      <th>n_estimators</th>\n",
       "      <th>score</th>\n",
       "    </tr>\n",
       "  </thead>\n",
       "  <tbody>\n",
       "    <tr>\n",
       "      <th>47</th>\n",
       "      <td>47</td>\n",
       "      <td>76</td>\n",
       "      <td>0.663691</td>\n",
       "      <td>300</td>\n",
       "      <td>0.414620</td>\n",
       "    </tr>\n",
       "    <tr>\n",
       "      <th>59</th>\n",
       "      <td>59</td>\n",
       "      <td>39</td>\n",
       "      <td>0.782531</td>\n",
       "      <td>300</td>\n",
       "      <td>0.414627</td>\n",
       "    </tr>\n",
       "    <tr>\n",
       "      <th>89</th>\n",
       "      <td>89</td>\n",
       "      <td>86</td>\n",
       "      <td>0.749258</td>\n",
       "      <td>300</td>\n",
       "      <td>0.414739</td>\n",
       "    </tr>\n",
       "    <tr>\n",
       "      <th>78</th>\n",
       "      <td>78</td>\n",
       "      <td>69</td>\n",
       "      <td>0.842544</td>\n",
       "      <td>300</td>\n",
       "      <td>0.414800</td>\n",
       "    </tr>\n",
       "    <tr>\n",
       "      <th>73</th>\n",
       "      <td>73</td>\n",
       "      <td>67</td>\n",
       "      <td>0.825761</td>\n",
       "      <td>300</td>\n",
       "      <td>0.414800</td>\n",
       "    </tr>\n",
       "    <tr>\n",
       "      <th>60</th>\n",
       "      <td>60</td>\n",
       "      <td>90</td>\n",
       "      <td>0.621477</td>\n",
       "      <td>300</td>\n",
       "      <td>0.414833</td>\n",
       "    </tr>\n",
       "    <tr>\n",
       "      <th>33</th>\n",
       "      <td>33</td>\n",
       "      <td>29</td>\n",
       "      <td>0.909487</td>\n",
       "      <td>300</td>\n",
       "      <td>0.414950</td>\n",
       "    </tr>\n",
       "    <tr>\n",
       "      <th>2</th>\n",
       "      <td>2</td>\n",
       "      <td>96</td>\n",
       "      <td>0.676832</td>\n",
       "      <td>300</td>\n",
       "      <td>0.414956</td>\n",
       "    </tr>\n",
       "    <tr>\n",
       "      <th>50</th>\n",
       "      <td>50</td>\n",
       "      <td>56</td>\n",
       "      <td>0.699864</td>\n",
       "      <td>300</td>\n",
       "      <td>0.414956</td>\n",
       "    </tr>\n",
       "    <tr>\n",
       "      <th>72</th>\n",
       "      <td>72</td>\n",
       "      <td>81</td>\n",
       "      <td>0.678193</td>\n",
       "      <td>300</td>\n",
       "      <td>0.414956</td>\n",
       "    </tr>\n",
       "  </tbody>\n",
       "</table>\n",
       "</div>"
      ],
      "text/plain": [
       "    epoch  max_depth  max_features  n_estimators     score\n",
       "47     47         76      0.663691           300  0.414620\n",
       "59     59         39      0.782531           300  0.414627\n",
       "89     89         86      0.749258           300  0.414739\n",
       "78     78         69      0.842544           300  0.414800\n",
       "73     73         67      0.825761           300  0.414800\n",
       "60     60         90      0.621477           300  0.414833\n",
       "33     33         29      0.909487           300  0.414950\n",
       "2       2         96      0.676832           300  0.414956\n",
       "50     50         56      0.699864           300  0.414956\n",
       "72     72         81      0.678193           300  0.414956"
      ]
     },
     "execution_count": 92,
     "metadata": {},
     "output_type": "execute_result"
    }
   ],
   "source": [
    "## Coarse Search\n",
    "from sklearn.model_selection import cross_val_score\n",
    "\n",
    "n_estimators = 300\n",
    "num_epoch = 100\n",
    "coarse_hyperparameters_list = []\n",
    "\n",
    "for epoch in range(num_epoch):\n",
    "    max_depth = np.random.randint(low=2, high=100)\n",
    "    max_features = np.random.uniform(low=0.1, high=1.0)\n",
    "    \n",
    "    model = RandomForestRegressor(n_estimators = n_estimators,\n",
    "                                  max_depth = max_depth,\n",
    "                                  max_features = max_features,\n",
    "                                  n_jobs= -1,\n",
    "                                  random_state = 37)\n",
    "\n",
    "    score = cross_val_score(model, X_train, y_train, cv = 20, scoring = rmse_score).mean()\n",
    "    \n",
    "    hyperparameters = {\n",
    "        'epoch': epoch,\n",
    "        'score': score,\n",
    "        'n_estimators': n_estimators,\n",
    "        'max_depth': max_depth,\n",
    "        'max_features': max_features,\n",
    "    }\n",
    "\n",
    "    coarse_hyperparameters_list.append(hyperparameters) # append every result to the list\n",
    "\n",
    "    print(f\"{epoch:2} n_estimators = {n_estimators}, max_depth = {max_depth:2}, max_features = {max_features:.6f}, Score = {score:.5f}\")\n",
    "\n",
    "coarse_hyperparameters_list = pd.DataFrame.from_dict(coarse_hyperparameters_list)\n",
    "coarse_hyperparameters_list = coarse_hyperparameters_list.sort_values(by=\"score\")\n",
    "\n",
    "print(coarse_hyperparameters_list.shape)\n",
    "coarse_hyperparameters_list.head(10)"
   ]
  },
  {
   "cell_type": "markdown",
   "metadata": {},
   "source": [
    "### Finer Search"
   ]
  },
  {
   "cell_type": "code",
   "execution_count": 57,
   "metadata": {},
   "outputs": [
    {
     "name": "stdout",
     "output_type": "stream",
     "text": [
      " 0 n_estimators = 300, max_depth = 81, max_features = 0.895641, Score = 0.34972\n",
      " 1 n_estimators = 300, max_depth = 98, max_features = 0.846266, Score = 0.34972\n",
      " 2 n_estimators = 300, max_depth = 57, max_features = 0.858892, Score = 0.34972\n",
      " 3 n_estimators = 300, max_depth = 48, max_features = 0.852562, Score = 0.34972\n",
      " 4 n_estimators = 300, max_depth = 43, max_features = 0.897101, Score = 0.34972\n",
      " 5 n_estimators = 300, max_depth = 56, max_features = 0.873381, Score = 0.34972\n",
      " 6 n_estimators = 300, max_depth = 61, max_features = 0.866360, Score = 0.34972\n",
      " 7 n_estimators = 300, max_depth = 52, max_features = 0.981418, Score = 0.35063\n",
      " 8 n_estimators = 300, max_depth = 89, max_features = 0.669336, Score = 0.35183\n",
      " 9 n_estimators = 300, max_depth = 75, max_features = 0.976717, Score = 0.35063\n",
      "10 n_estimators = 300, max_depth = 53, max_features = 0.637794, Score = 0.35183\n",
      "11 n_estimators = 300, max_depth = 77, max_features = 0.668946, Score = 0.35183\n",
      "12 n_estimators = 300, max_depth = 98, max_features = 0.658602, Score = 0.35183\n",
      "13 n_estimators = 300, max_depth = 87, max_features = 0.910893, Score = 0.35063\n",
      "14 n_estimators = 300, max_depth = 96, max_features = 0.921406, Score = 0.35063\n",
      "15 n_estimators = 300, max_depth = 52, max_features = 0.711709, Score = 0.35183\n",
      "16 n_estimators = 300, max_depth = 51, max_features = 0.892232, Score = 0.34972\n",
      "17 n_estimators = 300, max_depth = 78, max_features = 0.730339, Score = 0.34991\n",
      "18 n_estimators = 300, max_depth = 86, max_features = 0.813340, Score = 0.34991\n",
      "19 n_estimators = 300, max_depth = 47, max_features = 0.685480, Score = 0.35183\n",
      "20 n_estimators = 300, max_depth = 86, max_features = 0.987074, Score = 0.35063\n",
      "21 n_estimators = 300, max_depth = 52, max_features = 0.797930, Score = 0.34991\n",
      "22 n_estimators = 300, max_depth = 79, max_features = 0.752591, Score = 0.34991\n",
      "23 n_estimators = 300, max_depth = 66, max_features = 0.660804, Score = 0.35183\n",
      "24 n_estimators = 300, max_depth = 78, max_features = 0.785788, Score = 0.34991\n",
      "25 n_estimators = 300, max_depth = 43, max_features = 0.750704, Score = 0.34991\n",
      "26 n_estimators = 300, max_depth = 54, max_features = 0.892460, Score = 0.34972\n",
      "27 n_estimators = 300, max_depth = 93, max_features = 0.656088, Score = 0.35183\n",
      "28 n_estimators = 300, max_depth = 72, max_features = 0.748952, Score = 0.34991\n",
      "29 n_estimators = 300, max_depth = 80, max_features = 0.654671, Score = 0.35183\n",
      "30 n_estimators = 300, max_depth = 61, max_features = 0.722757, Score = 0.35183\n",
      "31 n_estimators = 300, max_depth = 54, max_features = 0.716921, Score = 0.35183\n",
      "32 n_estimators = 300, max_depth = 99, max_features = 0.941609, Score = 0.35063\n",
      "33 n_estimators = 300, max_depth = 69, max_features = 0.984873, Score = 0.35063\n",
      "34 n_estimators = 300, max_depth = 74, max_features = 0.622514, Score = 0.35736\n",
      "35 n_estimators = 300, max_depth = 67, max_features = 0.841878, Score = 0.34972\n",
      "36 n_estimators = 300, max_depth = 61, max_features = 0.928413, Score = 0.35063\n",
      "37 n_estimators = 300, max_depth = 85, max_features = 0.681068, Score = 0.35183\n",
      "38 n_estimators = 300, max_depth = 57, max_features = 0.840519, Score = 0.34972\n",
      "39 n_estimators = 300, max_depth = 76, max_features = 0.944768, Score = 0.35063\n",
      "40 n_estimators = 300, max_depth = 49, max_features = 0.868794, Score = 0.34972\n",
      "41 n_estimators = 300, max_depth = 61, max_features = 0.855102, Score = 0.34972\n",
      "42 n_estimators = 300, max_depth = 64, max_features = 0.995230, Score = 0.35063\n",
      "43 n_estimators = 300, max_depth = 42, max_features = 0.729325, Score = 0.34991\n",
      "44 n_estimators = 300, max_depth = 88, max_features = 0.764790, Score = 0.34991\n",
      "45 n_estimators = 300, max_depth = 88, max_features = 0.848313, Score = 0.34972\n",
      "46 n_estimators = 300, max_depth = 98, max_features = 0.630035, Score = 0.35736\n",
      "47 n_estimators = 300, max_depth = 64, max_features = 0.975362, Score = 0.35063\n",
      "48 n_estimators = 300, max_depth = 68, max_features = 0.684023, Score = 0.35183\n",
      "49 n_estimators = 300, max_depth = 66, max_features = 0.866133, Score = 0.34972\n",
      "50 n_estimators = 300, max_depth = 46, max_features = 0.778686, Score = 0.34991\n",
      "51 n_estimators = 300, max_depth = 87, max_features = 0.729541, Score = 0.34991\n",
      "52 n_estimators = 300, max_depth = 94, max_features = 0.701859, Score = 0.35183\n",
      "53 n_estimators = 300, max_depth = 54, max_features = 0.957078, Score = 0.35063\n",
      "54 n_estimators = 300, max_depth = 76, max_features = 0.611109, Score = 0.35736\n",
      "55 n_estimators = 300, max_depth = 93, max_features = 0.911357, Score = 0.35063\n",
      "56 n_estimators = 300, max_depth = 68, max_features = 0.749964, Score = 0.34991\n",
      "57 n_estimators = 300, max_depth = 86, max_features = 0.695954, Score = 0.35183\n",
      "58 n_estimators = 300, max_depth = 82, max_features = 0.742355, Score = 0.34991\n",
      "59 n_estimators = 300, max_depth = 99, max_features = 0.604485, Score = 0.35736\n",
      "60 n_estimators = 300, max_depth = 65, max_features = 0.992726, Score = 0.35063\n",
      "61 n_estimators = 300, max_depth = 56, max_features = 0.862873, Score = 0.34972\n",
      "62 n_estimators = 300, max_depth = 44, max_features = 0.685694, Score = 0.35183\n",
      "63 n_estimators = 300, max_depth = 63, max_features = 0.866004, Score = 0.34972\n",
      "64 n_estimators = 300, max_depth = 80, max_features = 0.694646, Score = 0.35183\n",
      "65 n_estimators = 300, max_depth = 42, max_features = 0.667175, Score = 0.35183\n",
      "66 n_estimators = 300, max_depth = 93, max_features = 0.984673, Score = 0.35063\n",
      "67 n_estimators = 300, max_depth = 59, max_features = 0.841899, Score = 0.34972\n",
      "68 n_estimators = 300, max_depth = 91, max_features = 0.965734, Score = 0.35063\n",
      "69 n_estimators = 300, max_depth = 63, max_features = 0.853555, Score = 0.34972\n",
      "70 n_estimators = 300, max_depth = 65, max_features = 0.847273, Score = 0.34972\n",
      "71 n_estimators = 300, max_depth = 50, max_features = 0.983708, Score = 0.35063\n",
      "72 n_estimators = 300, max_depth = 47, max_features = 0.980317, Score = 0.35063\n",
      "73 n_estimators = 300, max_depth = 70, max_features = 0.666894, Score = 0.35183\n",
      "74 n_estimators = 300, max_depth = 65, max_features = 0.722854, Score = 0.35183\n",
      "75 n_estimators = 300, max_depth = 85, max_features = 0.936717, Score = 0.35063\n",
      "76 n_estimators = 300, max_depth = 56, max_features = 0.619631, Score = 0.35736\n",
      "77 n_estimators = 300, max_depth = 85, max_features = 0.743957, Score = 0.34991\n",
      "78 n_estimators = 300, max_depth = 98, max_features = 0.900827, Score = 0.34972\n",
      "79 n_estimators = 300, max_depth = 40, max_features = 0.763404, Score = 0.34991\n",
      "80 n_estimators = 300, max_depth = 54, max_features = 0.926658, Score = 0.35063\n",
      "81 n_estimators = 300, max_depth = 90, max_features = 0.625667, Score = 0.35736\n",
      "82 n_estimators = 300, max_depth = 94, max_features = 0.689405, Score = 0.35183\n",
      "83 n_estimators = 300, max_depth = 84, max_features = 0.665311, Score = 0.35183\n",
      "84 n_estimators = 300, max_depth = 96, max_features = 0.963923, Score = 0.35063\n",
      "85 n_estimators = 300, max_depth = 46, max_features = 0.925121, Score = 0.35063\n",
      "86 n_estimators = 300, max_depth = 99, max_features = 0.965535, Score = 0.35063\n",
      "87 n_estimators = 300, max_depth = 45, max_features = 0.954655, Score = 0.35063\n",
      "88 n_estimators = 300, max_depth = 84, max_features = 0.702898, Score = 0.35183\n",
      "89 n_estimators = 300, max_depth = 74, max_features = 0.760370, Score = 0.34991\n",
      "90 n_estimators = 300, max_depth = 76, max_features = 0.781249, Score = 0.34991\n",
      "91 n_estimators = 300, max_depth = 80, max_features = 0.602820, Score = 0.35736\n",
      "92 n_estimators = 300, max_depth = 41, max_features = 0.659413, Score = 0.35183\n",
      "93 n_estimators = 300, max_depth = 53, max_features = 0.877085, Score = 0.34972\n",
      "94 n_estimators = 300, max_depth = 65, max_features = 0.803737, Score = 0.34991\n",
      "95 n_estimators = 300, max_depth = 96, max_features = 0.753972, Score = 0.34991\n",
      "96 n_estimators = 300, max_depth = 51, max_features = 0.853719, Score = 0.34972\n",
      "97 n_estimators = 300, max_depth = 74, max_features = 0.821524, Score = 0.34972\n",
      "98 n_estimators = 300, max_depth = 40, max_features = 0.695594, Score = 0.35183\n",
      "99 n_estimators = 300, max_depth = 98, max_features = 0.694903, Score = 0.35183\n",
      "(100, 5)\n"
     ]
    },
    {
     "data": {
      "text/html": [
       "<div>\n",
       "<style scoped>\n",
       "    .dataframe tbody tr th:only-of-type {\n",
       "        vertical-align: middle;\n",
       "    }\n",
       "\n",
       "    .dataframe tbody tr th {\n",
       "        vertical-align: top;\n",
       "    }\n",
       "\n",
       "    .dataframe thead th {\n",
       "        text-align: right;\n",
       "    }\n",
       "</style>\n",
       "<table border=\"1\" class=\"dataframe\">\n",
       "  <thead>\n",
       "    <tr style=\"text-align: right;\">\n",
       "      <th></th>\n",
       "      <th>epoch</th>\n",
       "      <th>max_depth</th>\n",
       "      <th>max_features</th>\n",
       "      <th>n_estimators</th>\n",
       "      <th>score</th>\n",
       "    </tr>\n",
       "  </thead>\n",
       "  <tbody>\n",
       "    <tr>\n",
       "      <th>0</th>\n",
       "      <td>0</td>\n",
       "      <td>81</td>\n",
       "      <td>0.895641</td>\n",
       "      <td>300</td>\n",
       "      <td>0.34972</td>\n",
       "    </tr>\n",
       "    <tr>\n",
       "      <th>97</th>\n",
       "      <td>97</td>\n",
       "      <td>74</td>\n",
       "      <td>0.821524</td>\n",
       "      <td>300</td>\n",
       "      <td>0.34972</td>\n",
       "    </tr>\n",
       "    <tr>\n",
       "      <th>96</th>\n",
       "      <td>96</td>\n",
       "      <td>51</td>\n",
       "      <td>0.853719</td>\n",
       "      <td>300</td>\n",
       "      <td>0.34972</td>\n",
       "    </tr>\n",
       "    <tr>\n",
       "      <th>93</th>\n",
       "      <td>93</td>\n",
       "      <td>53</td>\n",
       "      <td>0.877085</td>\n",
       "      <td>300</td>\n",
       "      <td>0.34972</td>\n",
       "    </tr>\n",
       "    <tr>\n",
       "      <th>78</th>\n",
       "      <td>78</td>\n",
       "      <td>98</td>\n",
       "      <td>0.900827</td>\n",
       "      <td>300</td>\n",
       "      <td>0.34972</td>\n",
       "    </tr>\n",
       "    <tr>\n",
       "      <th>70</th>\n",
       "      <td>70</td>\n",
       "      <td>65</td>\n",
       "      <td>0.847273</td>\n",
       "      <td>300</td>\n",
       "      <td>0.34972</td>\n",
       "    </tr>\n",
       "    <tr>\n",
       "      <th>69</th>\n",
       "      <td>69</td>\n",
       "      <td>63</td>\n",
       "      <td>0.853555</td>\n",
       "      <td>300</td>\n",
       "      <td>0.34972</td>\n",
       "    </tr>\n",
       "    <tr>\n",
       "      <th>67</th>\n",
       "      <td>67</td>\n",
       "      <td>59</td>\n",
       "      <td>0.841899</td>\n",
       "      <td>300</td>\n",
       "      <td>0.34972</td>\n",
       "    </tr>\n",
       "    <tr>\n",
       "      <th>63</th>\n",
       "      <td>63</td>\n",
       "      <td>63</td>\n",
       "      <td>0.866004</td>\n",
       "      <td>300</td>\n",
       "      <td>0.34972</td>\n",
       "    </tr>\n",
       "    <tr>\n",
       "      <th>61</th>\n",
       "      <td>61</td>\n",
       "      <td>56</td>\n",
       "      <td>0.862873</td>\n",
       "      <td>300</td>\n",
       "      <td>0.34972</td>\n",
       "    </tr>\n",
       "  </tbody>\n",
       "</table>\n",
       "</div>"
      ],
      "text/plain": [
       "    epoch  max_depth  max_features  n_estimators    score\n",
       "0       0         81      0.895641           300  0.34972\n",
       "97     97         74      0.821524           300  0.34972\n",
       "96     96         51      0.853719           300  0.34972\n",
       "93     93         53      0.877085           300  0.34972\n",
       "78     78         98      0.900827           300  0.34972\n",
       "70     70         65      0.847273           300  0.34972\n",
       "69     69         63      0.853555           300  0.34972\n",
       "67     67         59      0.841899           300  0.34972\n",
       "63     63         63      0.866004           300  0.34972\n",
       "61     61         56      0.862873           300  0.34972"
      ]
     },
     "execution_count": 57,
     "metadata": {},
     "output_type": "execute_result"
    }
   ],
   "source": [
    "from sklearn.ensemble import RandomForestRegressor\n",
    "from sklearn.model_selection import cross_val_score\n",
    "\n",
    "n_estimators = 300\n",
    "num_epoch = 100\n",
    "\n",
    "finer_hyperparameters_list = []\n",
    "\n",
    "for epoch in range(num_epoch):\n",
    "    max_depth = np.random.randint(low=40, high=100)\n",
    "    max_features = np.random.uniform(low=0.6, high=1.0)\n",
    "\n",
    "    model = RandomForestRegressor(n_estimators=n_estimators,\n",
    "                                  max_depth=max_depth,\n",
    "                                  max_features=max_features,\n",
    "                                  n_jobs=-1,\n",
    "                                  random_state=37)\n",
    "\n",
    "    score = cross_val_score(model, X_train, y_train, cv=20, scoring=rmse_score).mean()\n",
    "    \n",
    "    hyperparameters = {\n",
    "        'epoch': epoch,\n",
    "        'score': score,\n",
    "        'n_estimators': n_estimators,\n",
    "        'max_depth': max_depth,\n",
    "        'max_features': max_features,\n",
    "    }\n",
    "\n",
    "    finer_hyperparameters_list.append(hyperparameters)\n",
    "\n",
    "    print(f\"{epoch:2} n_estimators = {n_estimators}, max_depth = {max_depth:2}, max_features = {max_features:.6f}, Score = {score:.5f}\")\n",
    "\n",
    "finer_hyperparameters_list = pd.DataFrame.from_dict(finer_hyperparameters_list)\n",
    "finer_hyperparameters_list = finer_hyperparameters_list.sort_values(by=\"score\")\n",
    "print(finer_hyperparameters_list.shape)\n",
    "\n",
    "finer_hyperparameters_list.head(10)"
   ]
  },
  {
   "cell_type": "markdown",
   "metadata": {},
   "source": [
    "## Random Tree"
   ]
  },
  {
   "cell_type": "code",
   "execution_count": 58,
   "metadata": {},
   "outputs": [
    {
     "name": "stdout",
     "output_type": "stream",
     "text": [
      "max_depth(best) = 81.0, max_features(best) = 0.895641\n"
     ]
    }
   ],
   "source": [
    "best_hyperparameters = finer_hyperparameters_list.iloc[0]\n",
    "best_max_depth = best_hyperparameters[\"max_depth\"]\n",
    "best_max_features = best_hyperparameters[\"max_features\"]\n",
    "\n",
    "print(f\"max_depth(best) = {best_max_depth}, max_features(best) = {best_max_features:.6f}\")"
   ]
  },
  {
   "cell_type": "code",
   "execution_count": 59,
   "metadata": {},
   "outputs": [
    {
     "data": {
      "text/plain": [
       "RandomForestRegressor(bootstrap=True, criterion='mse', max_depth=81.0,\n",
       "           max_features=0.8956414035687414, max_leaf_nodes=None,\n",
       "           min_impurity_decrease=0.0, min_impurity_split=None,\n",
       "           min_samples_leaf=1, min_samples_split=2,\n",
       "           min_weight_fraction_leaf=0.0, n_estimators=3000, n_jobs=1,\n",
       "           oob_score=False, random_state=42, verbose=0, warm_start=False)"
      ]
     },
     "execution_count": 59,
     "metadata": {},
     "output_type": "execute_result"
    }
   ],
   "source": [
    "from sklearn.ensemble import RandomForestRegressor\n",
    "model = RandomForestRegressor(random_state = 42, n_estimators = 3000, max_depth = best_max_depth, max_features = best_max_features)\n",
    "model"
   ]
  },
  {
   "cell_type": "markdown",
   "metadata": {},
   "source": [
    "## Model Validation"
   ]
  },
  {
   "cell_type": "code",
   "execution_count": 60,
   "metadata": {
    "scrolled": true
   },
   "outputs": [
    {
     "name": "stdout",
     "output_type": "stream",
     "text": [
      "(10886,)\n"
     ]
    },
    {
     "data": {
      "text/plain": [
       "array([3.35490123, 3.24949748, 3.0223915 , ..., 5.21105106, 5.11034316,\n",
       "       4.78602894])"
      ]
     },
     "execution_count": 60,
     "metadata": {},
     "output_type": "execute_result"
    }
   ],
   "source": [
    "from sklearn.model_selection import cross_val_predict\n",
    "\n",
    "y_predict = cross_val_predict(model, X_train, y_train, cv = 40)\n",
    "print(y_predict.shape)\n",
    "y_predict"
   ]
  },
  {
   "cell_type": "markdown",
   "metadata": {},
   "source": [
    "## Model Fit and Submission"
   ]
  },
  {
   "cell_type": "code",
   "execution_count": 61,
   "metadata": {},
   "outputs": [
    {
     "data": {
      "text/plain": [
       "RandomForestRegressor(bootstrap=True, criterion='mse', max_depth=81.0,\n",
       "           max_features=0.8956414035687414, max_leaf_nodes=None,\n",
       "           min_impurity_decrease=0.0, min_impurity_split=None,\n",
       "           min_samples_leaf=1, min_samples_split=2,\n",
       "           min_weight_fraction_leaf=0.0, n_estimators=3000, n_jobs=1,\n",
       "           oob_score=False, random_state=42, verbose=0, warm_start=False)"
      ]
     },
     "execution_count": 61,
     "metadata": {},
     "output_type": "execute_result"
    }
   ],
   "source": [
    "model.fit(X_train, y_train)"
   ]
  },
  {
   "cell_type": "code",
   "execution_count": 62,
   "metadata": {},
   "outputs": [
    {
     "name": "stdout",
     "output_type": "stream",
     "text": [
      "(6493,)\n"
     ]
    },
    {
     "data": {
      "text/plain": [
       "array([2.51183278, 1.74275591, 1.42467337, ..., 4.60033892, 4.58653697,\n",
       "       3.86479399])"
      ]
     },
     "execution_count": 62,
     "metadata": {},
     "output_type": "execute_result"
    }
   ],
   "source": [
    "log_predictions = model.predict(X_test)\n",
    "print(log_predictions.shape)\n",
    "\n",
    "log_predictions"
   ]
  },
  {
   "cell_type": "code",
   "execution_count": 63,
   "metadata": {},
   "outputs": [
    {
     "name": "stdout",
     "output_type": "stream",
     "text": [
      "(6493,)\n"
     ]
    },
    {
     "data": {
      "text/plain": [
       "array([11.32750297,  4.71306643,  3.15649997, ..., 98.51803901,\n",
       "       97.15393078, 46.69344632])"
      ]
     },
     "execution_count": 63,
     "metadata": {},
     "output_type": "execute_result"
    }
   ],
   "source": [
    "predictions = np.exp(log_predictions) - 1\n",
    "print(predictions.shape)\n",
    "\n",
    "predictions"
   ]
  },
  {
   "cell_type": "code",
   "execution_count": 64,
   "metadata": {},
   "outputs": [
    {
     "name": "stdout",
     "output_type": "stream",
     "text": [
      "(6493, 2)\n"
     ]
    },
    {
     "data": {
      "text/html": [
       "<div>\n",
       "<style scoped>\n",
       "    .dataframe tbody tr th:only-of-type {\n",
       "        vertical-align: middle;\n",
       "    }\n",
       "\n",
       "    .dataframe tbody tr th {\n",
       "        vertical-align: top;\n",
       "    }\n",
       "\n",
       "    .dataframe thead th {\n",
       "        text-align: right;\n",
       "    }\n",
       "</style>\n",
       "<table border=\"1\" class=\"dataframe\">\n",
       "  <thead>\n",
       "    <tr style=\"text-align: right;\">\n",
       "      <th></th>\n",
       "      <th>datetime</th>\n",
       "      <th>count</th>\n",
       "    </tr>\n",
       "  </thead>\n",
       "  <tbody>\n",
       "    <tr>\n",
       "      <th>0</th>\n",
       "      <td>2011-01-20 00:00:00</td>\n",
       "      <td>11.327503</td>\n",
       "    </tr>\n",
       "    <tr>\n",
       "      <th>1</th>\n",
       "      <td>2011-01-20 01:00:00</td>\n",
       "      <td>4.713066</td>\n",
       "    </tr>\n",
       "    <tr>\n",
       "      <th>2</th>\n",
       "      <td>2011-01-20 02:00:00</td>\n",
       "      <td>3.156500</td>\n",
       "    </tr>\n",
       "    <tr>\n",
       "      <th>3</th>\n",
       "      <td>2011-01-20 03:00:00</td>\n",
       "      <td>3.259798</td>\n",
       "    </tr>\n",
       "    <tr>\n",
       "      <th>4</th>\n",
       "      <td>2011-01-20 04:00:00</td>\n",
       "      <td>2.666033</td>\n",
       "    </tr>\n",
       "  </tbody>\n",
       "</table>\n",
       "</div>"
      ],
      "text/plain": [
       "              datetime      count\n",
       "0  2011-01-20 00:00:00  11.327503\n",
       "1  2011-01-20 01:00:00   4.713066\n",
       "2  2011-01-20 02:00:00   3.156500\n",
       "3  2011-01-20 03:00:00   3.259798\n",
       "4  2011-01-20 04:00:00   2.666033"
      ]
     },
     "execution_count": 64,
     "metadata": {},
     "output_type": "execute_result"
    }
   ],
   "source": [
    "submit = pd.read_csv(\"sampleSubmission.csv\")\n",
    "submit[\"count\"] = predictions\n",
    "print(submit.shape)\n",
    "submit.head()"
   ]
  },
  {
   "cell_type": "code",
   "execution_count": 65,
   "metadata": {},
   "outputs": [],
   "source": [
    "submit.to_csv(\"baseline_script.csv\", index = False) # ERASE index!!!! defaults to having index"
   ]
  },
  {
   "cell_type": "code",
   "execution_count": null,
   "metadata": {},
   "outputs": [],
   "source": [
    "# 3251 submissions total"
   ]
  },
  {
   "cell_type": "code",
   "execution_count": null,
   "metadata": {},
   "outputs": [],
   "source": []
  },
  {
   "cell_type": "code",
   "execution_count": null,
   "metadata": {},
   "outputs": [],
   "source": []
  }
 ],
 "metadata": {
  "kernelspec": {
   "display_name": "Python 3",
   "language": "python",
   "name": "python3"
  },
  "language_info": {
   "codemirror_mode": {
    "name": "ipython",
    "version": 3
   },
   "file_extension": ".py",
   "mimetype": "text/x-python",
   "name": "python",
   "nbconvert_exporter": "python",
   "pygments_lexer": "ipython3",
   "version": "3.6.5"
  }
 },
 "nbformat": 4,
 "nbformat_minor": 2
}
